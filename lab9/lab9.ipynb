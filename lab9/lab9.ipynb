{
 "cells": [
  {
   "cell_type": "markdown",
   "id": "530eca6c",
   "metadata": {},
   "source": [
    "# Задание 1\n",
    "    1. Заснять на веб-камеру или скачать с интернета цветное видео (файл_1) длинной не менее 50 с, в котором человек производит какие-либо движения (допустимы даже минимальные: необходимо, чтобы его лицо не было зафиксировано в одном положении в течение видео) и при этом большую часть времени смотрит в объектив камеры (но не все время, т.е. человек может отворачиваться, посмотреть в другую сторону). Необходимо к каждому кадру видеопотока применять различные преобразования, так что в видео:\n",
    "    • [0c; 5c): кадр без изменений\n",
    "    • [6c; 10c): размытие с квадратной матрицей из 1 размером 3, \n",
    "    • [10c; 15c): размытие с квадратной матрицей из 1 размером 5, \n",
    "    • [15c; 20c): размытие с квадратной матрицей из 1 размером 9. \n",
    "    • [20c; 25c): размытие с квадратной матрицей из 1 размером 15. \n",
    "    • [25c; 30c): обнулить цветовой канал первый (B)\n",
    "    • [30c; 35c): обнулить второй цветовой канал (G)\n",
    "    • [35c; 40c): обнулить второй цветовой канал (R)\n",
    "    • [40c; 45с): применить эрозию с ядром размером 3\n",
    "    • [45c; 50с): применить эрозию с ядром размером 5\n",
    "Записать сохранить модифицированную видеозапись в файл2."
   ]
  },
  {
   "cell_type": "code",
   "execution_count": 2,
   "id": "f7bd84ce",
   "metadata": {},
   "outputs": [],
   "source": [
    "import numpy as np\n",
    "import math\n",
    "import cv2\n",
    "from matplotlib import pyplot as plt\n",
    "from PIL import Image"
   ]
  },
  {
   "cell_type": "code",
   "execution_count": 3,
   "id": "b1449a54",
   "metadata": {},
   "outputs": [],
   "source": [
    "fps = 30\n",
    "cap = cv2.VideoCapture(\"/home/qwe/Desktop/анализ изображений/test1.mp4\")\n",
    "\n",
    "fourcc = cv2.VideoWriter_fourcc('M', 'J', 'P', 'G')\n",
    "size = (int(cap.get(cv2.CAP_PROP_FRAME_WIDTH)),\n",
    "        int(cap.get(cv2.CAP_PROP_FRAME_HEIGHT)))\n",
    "out = cv2.VideoWriter('test2.avi', fourcc, fps, size, isColor=True)\n",
    "\n",
    "def f2(c, img):\n",
    "    img[:,:,c] = 0\n",
    "    return img"
   ]
  },
  {
   "cell_type": "code",
   "execution_count": 4,
   "id": "0a19e704",
   "metadata": {},
   "outputs": [],
   "source": [
    "def f(i, frame):\n",
    "    return {\n",
    "        0: frame.copy(),\n",
    "        1: cv2.GaussianBlur(frame, (3, 3), 1),\n",
    "        2: cv2.GaussianBlur(frame, (5, 5), 1),\n",
    "        3: cv2.GaussianBlur(frame, (9, 9), 1),\n",
    "        4: cv2.GaussianBlur(frame, (15, 15), 1),\n",
    "        5: f2(0, frame.copy()),\n",
    "        6: f2(1, frame.copy()),\n",
    "        7: f2(2, frame.copy()),\n",
    "        8: cv2.erode(frame.copy(), cv2.getStructuringElement(cv2.MORPH_CROSS, (3, 3)), iterations=1),\n",
    "        9: cv2.erode(frame.copy(), cv2.getStructuringElement(cv2.MORPH_CROSS, (5, 5)), iterations=1)\n",
    "    }[i]"
   ]
  },
  {
   "cell_type": "code",
   "execution_count": 5,
   "id": "b4221c5b",
   "metadata": {},
   "outputs": [],
   "source": [
    "for i in range(10):\n",
    "    for j in range(i*5*fps, (i+1)*5*fps):\n",
    "        # Capture frame by frame\n",
    "        ret, frame = cap.read()\n",
    "\n",
    "        res = f(i, frame)\n",
    "        out.write(res)\n",
    "# When everything done , release the capture\n",
    "cap.release()\n",
    "out.release()\n",
    "cv2.destroyAllWindows()\n"
   ]
  },
  {
   "cell_type": "markdown",
   "id": "e8a87cba",
   "metadata": {},
   "source": [
    "# Задание 2 \n",
    "Написать программу, которая к видео из файла2 применяет признаки Хаара, детектирует лица и обводит их в прямоугольную рамку. Записать полученное видео в файл3. Сделать выводы о том насколько ухудшение качества видеопотока влияет на определение лиц с помощью признаков Хаара."
   ]
  },
  {
   "cell_type": "code",
   "execution_count": 9,
   "id": "84519a84",
   "metadata": {},
   "outputs": [],
   "source": [
    "fps = 30\n",
    "face_cascade_db = cv2.CascadeClassifier('haarcascade_frontalface_default.xml')\n",
    "\n",
    "cap = cv2.VideoCapture(\"/home/qwe/Desktop/анализ изображений/test2.avi\")\n",
    "\n",
    "fourcc = cv2.VideoWriter_fourcc('M', 'J', 'P', 'G')\n",
    "size = (int(cap.get(cv2.CAP_PROP_FRAME_WIDTH)),\n",
    "        int(cap.get(cv2.CAP_PROP_FRAME_HEIGHT)))\n",
    "out = cv2.VideoWriter('test3.avi', fourcc, fps, size, isColor=True)\n",
    "\n",
    "for i in range(50*fps):\n",
    "    ret, frame = cap.read()\n",
    "\n",
    "    frame_gray = cv2.cvtColor(frame, cv2.COLOR_BGR2GRAY)\n",
    "    faces = face_cascade_db.detectMultiScale(frame_gray, scaleFactor=1.1, minNeighbors=5)\n",
    "    for (x, y, w, h) in faces:\n",
    "        cv2.rectangle(frame, (x, y), (x + w, y + h), (0, 255, 0), 2)\n",
    "    out.write(frame)\n",
    "# When everything done , release the capture\n",
    "cap.release()\n",
    "out.release()\n",
    "cv2.destroyAllWindows()"
   ]
  },
  {
   "cell_type": "code",
   "execution_count": null,
   "id": "6e55587e",
   "metadata": {},
   "outputs": [],
   "source": []
  }
 ],
 "metadata": {
  "kernelspec": {
   "display_name": "Python 3 (ipykernel)",
   "language": "python",
   "name": "python3"
  },
  "language_info": {
   "codemirror_mode": {
    "name": "ipython",
    "version": 3
   },
   "file_extension": ".py",
   "mimetype": "text/x-python",
   "name": "python",
   "nbconvert_exporter": "python",
   "pygments_lexer": "ipython3",
   "version": "3.8.10"
  }
 },
 "nbformat": 4,
 "nbformat_minor": 5
}
